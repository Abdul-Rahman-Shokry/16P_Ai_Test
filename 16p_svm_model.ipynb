{
 "cells": [
  {
   "cell_type": "code",
   "execution_count": 1,
   "metadata": {
    "executionInfo": {
     "elapsed": 2351,
     "status": "ok",
     "timestamp": 1714152089941,
     "user": {
      "displayName": "Abdul-Rahman Shokry",
      "userId": "01133999996652766072"
     },
     "user_tz": -180
    },
    "id": "l8kGtnNPst3J"
   },
   "outputs": [],
   "source": [
    "import pandas as pd\n",
    "import numpy as np\n",
    "df = pd.read_csv('16P_10.csv', encoding = 'latin1')"
   ]
  },
  {
   "cell_type": "code",
   "execution_count": 2,
   "metadata": {
    "colab": {
     "base_uri": "https://localhost:8080/",
     "height": 453
    },
    "executionInfo": {
     "elapsed": 74,
     "status": "ok",
     "timestamp": 1714152089941,
     "user": {
      "displayName": "Abdul-Rahman Shokry",
      "userId": "01133999996652766072"
     },
     "user_tz": -180
    },
    "id": "M5l-utV5t083",
    "outputId": "9e648c37-66eb-4f64-8b5a-8b628055fa86"
   },
   "outputs": [
    {
     "data": {
      "text/html": [
       "<div>\n",
       "<style scoped>\n",
       "    .dataframe tbody tr th:only-of-type {\n",
       "        vertical-align: middle;\n",
       "    }\n",
       "\n",
       "    .dataframe tbody tr th {\n",
       "        vertical-align: top;\n",
       "    }\n",
       "\n",
       "    .dataframe thead th {\n",
       "        text-align: right;\n",
       "    }\n",
       "</style>\n",
       "<table border=\"1\" class=\"dataframe\">\n",
       "  <thead>\n",
       "    <tr style=\"text-align: right;\">\n",
       "      <th></th>\n",
       "      <th>Response Id</th>\n",
       "      <th>You regularly make new friends.</th>\n",
       "      <th>You spend a lot of your free time exploring various random topics that pique your interest</th>\n",
       "      <th>Seeing other people cry can easily make you feel like you want to cry too</th>\n",
       "      <th>You often make a backup plan for a backup plan.</th>\n",
       "      <th>You usually stay calm, even under a lot of pressure</th>\n",
       "      <th>At social events, you rarely try to introduce yourself to new people and mostly talk to the ones you already know</th>\n",
       "      <th>You prefer to completely finish one project before starting another.</th>\n",
       "      <th>You are very sentimental.</th>\n",
       "      <th>You like to use organizing tools like schedules and lists.</th>\n",
       "      <th>...</th>\n",
       "      <th>You believe that pondering abstract philosophical questions is a waste of time.</th>\n",
       "      <th>You feel more drawn to places with busy, bustling atmospheres than quiet, intimate places.</th>\n",
       "      <th>You know at first glance how someone is feeling.</th>\n",
       "      <th>You often feel overwhelmed.</th>\n",
       "      <th>You complete things methodically without skipping over any steps.</th>\n",
       "      <th>You are very intrigued by things labeled as controversial.</th>\n",
       "      <th>You would pass along a good opportunity if you thought someone else needed it more.</th>\n",
       "      <th>You struggle with deadlines.</th>\n",
       "      <th>You feel confident that things will work out for you.</th>\n",
       "      <th>Personality</th>\n",
       "    </tr>\n",
       "  </thead>\n",
       "  <tbody>\n",
       "    <tr>\n",
       "      <th>0</th>\n",
       "      <td>0</td>\n",
       "      <td>0</td>\n",
       "      <td>0</td>\n",
       "      <td>0</td>\n",
       "      <td>0</td>\n",
       "      <td>0</td>\n",
       "      <td>1</td>\n",
       "      <td>1</td>\n",
       "      <td>0</td>\n",
       "      <td>0</td>\n",
       "      <td>...</td>\n",
       "      <td>0</td>\n",
       "      <td>0</td>\n",
       "      <td>0</td>\n",
       "      <td>-1</td>\n",
       "      <td>0</td>\n",
       "      <td>0</td>\n",
       "      <td>0</td>\n",
       "      <td>0</td>\n",
       "      <td>0</td>\n",
       "      <td>ENFP</td>\n",
       "    </tr>\n",
       "    <tr>\n",
       "      <th>1</th>\n",
       "      <td>1</td>\n",
       "      <td>0</td>\n",
       "      <td>0</td>\n",
       "      <td>-2</td>\n",
       "      <td>-3</td>\n",
       "      <td>-1</td>\n",
       "      <td>2</td>\n",
       "      <td>-2</td>\n",
       "      <td>0</td>\n",
       "      <td>3</td>\n",
       "      <td>...</td>\n",
       "      <td>0</td>\n",
       "      <td>-2</td>\n",
       "      <td>0</td>\n",
       "      <td>2</td>\n",
       "      <td>0</td>\n",
       "      <td>-1</td>\n",
       "      <td>-1</td>\n",
       "      <td>-1</td>\n",
       "      <td>3</td>\n",
       "      <td>ISFP</td>\n",
       "    </tr>\n",
       "    <tr>\n",
       "      <th>2</th>\n",
       "      <td>2</td>\n",
       "      <td>0</td>\n",
       "      <td>0</td>\n",
       "      <td>2</td>\n",
       "      <td>0</td>\n",
       "      <td>-1</td>\n",
       "      <td>2</td>\n",
       "      <td>0</td>\n",
       "      <td>0</td>\n",
       "      <td>1</td>\n",
       "      <td>...</td>\n",
       "      <td>0</td>\n",
       "      <td>2</td>\n",
       "      <td>0</td>\n",
       "      <td>2</td>\n",
       "      <td>-1</td>\n",
       "      <td>0</td>\n",
       "      <td>1</td>\n",
       "      <td>2</td>\n",
       "      <td>1</td>\n",
       "      <td>INFJ</td>\n",
       "    </tr>\n",
       "  </tbody>\n",
       "</table>\n",
       "<p>3 rows × 62 columns</p>\n",
       "</div>"
      ],
      "text/plain": [
       "   Response Id  You regularly make new friends.  \\\n",
       "0            0                                0   \n",
       "1            1                                0   \n",
       "2            2                                0   \n",
       "\n",
       "   You spend a lot of your free time exploring various random topics that pique your interest  \\\n",
       "0                                                  0                                            \n",
       "1                                                  0                                            \n",
       "2                                                  0                                            \n",
       "\n",
       "   Seeing other people cry can easily make you feel like you want to cry too  \\\n",
       "0                                                  0                           \n",
       "1                                                 -2                           \n",
       "2                                                  2                           \n",
       "\n",
       "   You often make a backup plan for a backup plan.  \\\n",
       "0                                                0   \n",
       "1                                               -3   \n",
       "2                                                0   \n",
       "\n",
       "   You usually stay calm, even under a lot of pressure  \\\n",
       "0                                                  0     \n",
       "1                                                 -1     \n",
       "2                                                 -1     \n",
       "\n",
       "   At social events, you rarely try to introduce yourself to new people and mostly talk to the ones you already know  \\\n",
       "0                                                  1                                                                   \n",
       "1                                                  2                                                                   \n",
       "2                                                  2                                                                   \n",
       "\n",
       "   You prefer to completely finish one project before starting another.  \\\n",
       "0                                                  1                      \n",
       "1                                                 -2                      \n",
       "2                                                  0                      \n",
       "\n",
       "   You are very sentimental.  \\\n",
       "0                          0   \n",
       "1                          0   \n",
       "2                          0   \n",
       "\n",
       "   You like to use organizing tools like schedules and lists.  ...  \\\n",
       "0                                                  0           ...   \n",
       "1                                                  3           ...   \n",
       "2                                                  1           ...   \n",
       "\n",
       "   You believe that pondering abstract philosophical questions is a waste of time.  \\\n",
       "0                                                  0                                 \n",
       "1                                                  0                                 \n",
       "2                                                  0                                 \n",
       "\n",
       "   You feel more drawn to places with busy, bustling atmospheres than quiet, intimate places.  \\\n",
       "0                                                  0                                            \n",
       "1                                                 -2                                            \n",
       "2                                                  2                                            \n",
       "\n",
       "   You know at first glance how someone is feeling.  \\\n",
       "0                                                 0   \n",
       "1                                                 0   \n",
       "2                                                 0   \n",
       "\n",
       "   You often feel overwhelmed.  \\\n",
       "0                           -1   \n",
       "1                            2   \n",
       "2                            2   \n",
       "\n",
       "   You complete things methodically without skipping over any steps.  \\\n",
       "0                                                  0                   \n",
       "1                                                  0                   \n",
       "2                                                 -1                   \n",
       "\n",
       "   You are very intrigued by things labeled as controversial.  \\\n",
       "0                                                  0            \n",
       "1                                                 -1            \n",
       "2                                                  0            \n",
       "\n",
       "   You would pass along a good opportunity if you thought someone else needed it more.  \\\n",
       "0                                                  0                                     \n",
       "1                                                 -1                                     \n",
       "2                                                  1                                     \n",
       "\n",
       "   You struggle with deadlines.  \\\n",
       "0                             0   \n",
       "1                            -1   \n",
       "2                             2   \n",
       "\n",
       "   You feel confident that things will work out for you.  Personality  \n",
       "0                                                  0             ENFP  \n",
       "1                                                  3             ISFP  \n",
       "2                                                  1             INFJ  \n",
       "\n",
       "[3 rows x 62 columns]"
      ]
     },
     "execution_count": 2,
     "metadata": {},
     "output_type": "execute_result"
    }
   ],
   "source": [
    "df.head(3)"
   ]
  },
  {
   "cell_type": "code",
   "execution_count": 3,
   "metadata": {
    "colab": {
     "base_uri": "https://localhost:8080/"
    },
    "executionInfo": {
     "elapsed": 69,
     "status": "ok",
     "timestamp": 1714152089942,
     "user": {
      "displayName": "Abdul-Rahman Shokry",
      "userId": "01133999996652766072"
     },
     "user_tz": -180
    },
    "id": "W81ZlI1vui7p",
    "outputId": "b9fed6fb-f324-4f74-f389-08434a1c49dc"
   },
   "outputs": [
    {
     "name": "stdout",
     "output_type": "stream",
     "text": [
      "0 Response Id\n",
      "1 You regularly make new friends.\n",
      "2 You spend a lot of your free time exploring various random topics that pique your interest\n",
      "3 Seeing other people cry can easily make you feel like you want to cry too\n",
      "4 You often make a backup plan for a backup plan.\n",
      "5 You usually stay calm, even under a lot of pressure\n",
      "6 At social events, you rarely try to introduce yourself to new people and mostly talk to the ones you already know\n",
      "7 You prefer to completely finish one project before starting another.\n",
      "8 You are very sentimental.\n",
      "9 You like to use organizing tools like schedules and lists.\n",
      "10 Even a small mistake can cause you to doubt your overall abilities and knowledge.\n",
      "11 You feel comfortable just walking up to someone you find interesting and striking up a conversation.\n",
      "12 You are not too interested in discussing various interpretations and analyses of creative works.\n",
      "13 You are more inclined to follow your head than your heart.\n",
      "14 You usually prefer just doing what you feel like at any given moment instead of planning a particular daily routine.\n",
      "15 You rarely worry about whether you make a good impression on people you meet.\n",
      "16 You enjoy participating in group activities.\n",
      "17 You like books and movies that make you come up with your own interpretation of the ending.\n",
      "18 Your happiness comes more from helping others accomplish things than your own accomplishments.\n",
      "19 You are interested in so many things that you find it difficult to choose what to try next.\n",
      "20 You are prone to worrying that things will take a turn for the worse.\n",
      "21 You avoid leadership roles in group settings.\n",
      "22 You are definitely not an artistic type of person.\n",
      "23 You think the world would be a better place if people relied more on rationality and less on their feelings.\n",
      "24 You prefer to do your chores before allowing yourself to relax.\n",
      "25 You enjoy watching people argue.\n",
      "26 You tend to avoid drawing attention to yourself.\n",
      "27 Your mood can change very quickly.\n",
      "28 You lose patience with people who are not as efficient as you.\n",
      "29 You often end up doing things at the last possible moment.\n",
      "30 You have always been fascinated by the question of what, if anything, happens after death.\n",
      "31 You usually prefer to be around others rather than on your own.\n",
      "32 You become bored or lose interest when the discussion gets highly theoretical.\n",
      "33 You find it easy to empathize with a person whose experiences are very different from yours.\n",
      "34 You usually postpone finalizing decisions for as long as possible.\n",
      "35 You rarely second-guess the choices that you have made.\n",
      "36 After a long and exhausting week, a lively social event is just what you need.\n",
      "37 You enjoy going to art museums.\n",
      "38 You often have a hard time understanding other peoples feelings.\n",
      "39 You like to have a to-do list for each day.\n",
      "40 You rarely feel insecure.\n",
      "41 You avoid making phone calls.\n",
      "42 You often spend a lot of time trying to understand views that are very different from your own.\n",
      "43 In your social circle, you are often the one who contacts your friends and initiates activities.\n",
      "44 If your plans are interrupted, your top priority is to get back on track as soon as possible.\n",
      "45 You are still bothered by mistakes that you made a long time ago.\n",
      "46 You rarely contemplate the reasons for human existence or the meaning of life.\n",
      "47 Your emotions control you more than you control them.\n",
      "48 You take great care not to make people look bad, even when it is completely their fault.\n",
      "49 Your personal work style is closer to spontaneous bursts of energy than organized and consistent efforts.\n",
      "50 When someone thinks highly of you, you wonder how long it will take them to feel disappointed in you.\n",
      "51 You would love a job that requires you to work alone most of the time.\n",
      "52 You believe that pondering abstract philosophical questions is a waste of time.\n",
      "53 You feel more drawn to places with busy, bustling atmospheres than quiet, intimate places.\n",
      "54 You know at first glance how someone is feeling.\n",
      "55 You often feel overwhelmed.\n",
      "56 You complete things methodically without skipping over any steps.\n",
      "57 You are very intrigued by things labeled as controversial.\n",
      "58 You would pass along a good opportunity if you thought someone else needed it more.\n",
      "59 You struggle with deadlines.\n",
      "60 You feel confident that things will work out for you.\n",
      "61 Personality\n"
     ]
    }
   ],
   "source": [
    "for i,v in enumerate(df.columns):\n",
    "    print(i,v)"
   ]
  },
  {
   "cell_type": "code",
   "execution_count": 4,
   "metadata": {
    "executionInfo": {
     "elapsed": 64,
     "status": "ok",
     "timestamp": 1714152089942,
     "user": {
      "displayName": "Abdul-Rahman Shokry",
      "userId": "01133999996652766072"
     },
     "user_tz": -180
    },
    "id": "h_-BUOiIvxlD"
   },
   "outputs": [],
   "source": [
    "df.drop(df.loc[:,[\"Response Id\"]],axis = 1 , inplace = True)"
   ]
  },
  {
   "cell_type": "code",
   "execution_count": 5,
   "metadata": {
    "colab": {
     "base_uri": "https://localhost:8080/"
    },
    "executionInfo": {
     "elapsed": 64,
     "status": "ok",
     "timestamp": 1714152089943,
     "user": {
      "displayName": "Abdul-Rahman Shokry",
      "userId": "01133999996652766072"
     },
     "user_tz": -180
    },
    "id": "00GmgfrLjjF7",
    "outputId": "5a157d2e-d5d4-4fa0-b699-62bc5527d74f"
   },
   "outputs": [
    {
     "name": "stdout",
     "output_type": "stream",
     "text": [
      "0 You regularly make new friends.\n",
      "1 You spend a lot of your free time exploring various random topics that pique your interest\n",
      "2 Seeing other people cry can easily make you feel like you want to cry too\n",
      "3 You often make a backup plan for a backup plan.\n",
      "4 You usually stay calm, even under a lot of pressure\n",
      "5 At social events, you rarely try to introduce yourself to new people and mostly talk to the ones you already know\n",
      "6 You prefer to completely finish one project before starting another.\n",
      "7 You are very sentimental.\n",
      "8 You like to use organizing tools like schedules and lists.\n",
      "9 Even a small mistake can cause you to doubt your overall abilities and knowledge.\n",
      "10 You feel comfortable just walking up to someone you find interesting and striking up a conversation.\n",
      "11 You are not too interested in discussing various interpretations and analyses of creative works.\n",
      "12 You are more inclined to follow your head than your heart.\n",
      "13 You usually prefer just doing what you feel like at any given moment instead of planning a particular daily routine.\n",
      "14 You rarely worry about whether you make a good impression on people you meet.\n",
      "15 You enjoy participating in group activities.\n",
      "16 You like books and movies that make you come up with your own interpretation of the ending.\n",
      "17 Your happiness comes more from helping others accomplish things than your own accomplishments.\n",
      "18 You are interested in so many things that you find it difficult to choose what to try next.\n",
      "19 You are prone to worrying that things will take a turn for the worse.\n",
      "20 You avoid leadership roles in group settings.\n",
      "21 You are definitely not an artistic type of person.\n",
      "22 You think the world would be a better place if people relied more on rationality and less on their feelings.\n",
      "23 You prefer to do your chores before allowing yourself to relax.\n",
      "24 You enjoy watching people argue.\n",
      "25 You tend to avoid drawing attention to yourself.\n",
      "26 Your mood can change very quickly.\n",
      "27 You lose patience with people who are not as efficient as you.\n",
      "28 You often end up doing things at the last possible moment.\n",
      "29 You have always been fascinated by the question of what, if anything, happens after death.\n",
      "30 You usually prefer to be around others rather than on your own.\n",
      "31 You become bored or lose interest when the discussion gets highly theoretical.\n",
      "32 You find it easy to empathize with a person whose experiences are very different from yours.\n",
      "33 You usually postpone finalizing decisions for as long as possible.\n",
      "34 You rarely second-guess the choices that you have made.\n",
      "35 After a long and exhausting week, a lively social event is just what you need.\n",
      "36 You enjoy going to art museums.\n",
      "37 You often have a hard time understanding other peoples feelings.\n",
      "38 You like to have a to-do list for each day.\n",
      "39 You rarely feel insecure.\n",
      "40 You avoid making phone calls.\n",
      "41 You often spend a lot of time trying to understand views that are very different from your own.\n",
      "42 In your social circle, you are often the one who contacts your friends and initiates activities.\n",
      "43 If your plans are interrupted, your top priority is to get back on track as soon as possible.\n",
      "44 You are still bothered by mistakes that you made a long time ago.\n",
      "45 You rarely contemplate the reasons for human existence or the meaning of life.\n",
      "46 Your emotions control you more than you control them.\n",
      "47 You take great care not to make people look bad, even when it is completely their fault.\n",
      "48 Your personal work style is closer to spontaneous bursts of energy than organized and consistent efforts.\n",
      "49 When someone thinks highly of you, you wonder how long it will take them to feel disappointed in you.\n",
      "50 You would love a job that requires you to work alone most of the time.\n",
      "51 You believe that pondering abstract philosophical questions is a waste of time.\n",
      "52 You feel more drawn to places with busy, bustling atmospheres than quiet, intimate places.\n",
      "53 You know at first glance how someone is feeling.\n",
      "54 You often feel overwhelmed.\n",
      "55 You complete things methodically without skipping over any steps.\n",
      "56 You are very intrigued by things labeled as controversial.\n",
      "57 You would pass along a good opportunity if you thought someone else needed it more.\n",
      "58 You struggle with deadlines.\n",
      "59 You feel confident that things will work out for you.\n",
      "60 Personality\n"
     ]
    }
   ],
   "source": [
    "for i,v in enumerate(df.columns):\n",
    "    print(i,v)"
   ]
  },
  {
   "cell_type": "code",
   "execution_count": 6,
   "metadata": {
    "executionInfo": {
     "elapsed": 54,
     "status": "ok",
     "timestamp": 1714152089943,
     "user": {
      "displayName": "Abdul-Rahman Shokry",
      "userId": "01133999996652766072"
     },
     "user_tz": -180
    },
    "id": "a8eiFbKjkCcC"
   },
   "outputs": [],
   "source": [
    "df.drop(df.iloc[:,32:60] ,axis = 1 , inplace = True)"
   ]
  },
  {
   "cell_type": "code",
   "execution_count": 7,
   "metadata": {
    "colab": {
     "base_uri": "https://localhost:8080/"
    },
    "executionInfo": {
     "elapsed": 369,
     "status": "ok",
     "timestamp": 1714152090260,
     "user": {
      "displayName": "Abdul-Rahman Shokry",
      "userId": "01133999996652766072"
     },
     "user_tz": -180
    },
    "id": "FssJkIVjlVdn",
    "outputId": "e66b93ad-44e2-4b1c-8938-2393999e5e07"
   },
   "outputs": [
    {
     "name": "stdout",
     "output_type": "stream",
     "text": [
      "0 You regularly make new friends.\n",
      "1 You spend a lot of your free time exploring various random topics that pique your interest\n",
      "2 Seeing other people cry can easily make you feel like you want to cry too\n",
      "3 You often make a backup plan for a backup plan.\n",
      "4 You usually stay calm, even under a lot of pressure\n",
      "5 At social events, you rarely try to introduce yourself to new people and mostly talk to the ones you already know\n",
      "6 You prefer to completely finish one project before starting another.\n",
      "7 You are very sentimental.\n",
      "8 You like to use organizing tools like schedules and lists.\n",
      "9 Even a small mistake can cause you to doubt your overall abilities and knowledge.\n",
      "10 You feel comfortable just walking up to someone you find interesting and striking up a conversation.\n",
      "11 You are not too interested in discussing various interpretations and analyses of creative works.\n",
      "12 You are more inclined to follow your head than your heart.\n",
      "13 You usually prefer just doing what you feel like at any given moment instead of planning a particular daily routine.\n",
      "14 You rarely worry about whether you make a good impression on people you meet.\n",
      "15 You enjoy participating in group activities.\n",
      "16 You like books and movies that make you come up with your own interpretation of the ending.\n",
      "17 Your happiness comes more from helping others accomplish things than your own accomplishments.\n",
      "18 You are interested in so many things that you find it difficult to choose what to try next.\n",
      "19 You are prone to worrying that things will take a turn for the worse.\n",
      "20 You avoid leadership roles in group settings.\n",
      "21 You are definitely not an artistic type of person.\n",
      "22 You think the world would be a better place if people relied more on rationality and less on their feelings.\n",
      "23 You prefer to do your chores before allowing yourself to relax.\n",
      "24 You enjoy watching people argue.\n",
      "25 You tend to avoid drawing attention to yourself.\n",
      "26 Your mood can change very quickly.\n",
      "27 You lose patience with people who are not as efficient as you.\n",
      "28 You often end up doing things at the last possible moment.\n",
      "29 You have always been fascinated by the question of what, if anything, happens after death.\n",
      "30 You usually prefer to be around others rather than on your own.\n",
      "31 You become bored or lose interest when the discussion gets highly theoretical.\n",
      "32 Personality\n"
     ]
    }
   ],
   "source": [
    "for i,v in enumerate(df.columns):\n",
    "    print(i,v)"
   ]
  },
  {
   "cell_type": "code",
   "execution_count": 8,
   "metadata": {
    "executionInfo": {
     "elapsed": 9,
     "status": "ok",
     "timestamp": 1714152090261,
     "user": {
      "displayName": "Abdul-Rahman Shokry",
      "userId": "01133999996652766072"
     },
     "user_tz": -180
    },
    "id": "fJld28zylfy6"
   },
   "outputs": [],
   "source": [
    "x = df.iloc[: , :32].values\n",
    "y = df.iloc[:,32].values"
   ]
  },
  {
   "cell_type": "code",
   "execution_count": 9,
   "metadata": {
    "executionInfo": {
     "elapsed": 2774,
     "status": "ok",
     "timestamp": 1714152093028,
     "user": {
      "displayName": "Abdul-Rahman Shokry",
      "userId": "01133999996652766072"
     },
     "user_tz": -180
    },
    "id": "6gUM0AwYmSIU"
   },
   "outputs": [],
   "source": [
    "from sklearn.model_selection import train_test_split\n",
    "x_train, x_test, y_train, y_test = train_test_split(x, y, test_size=0.2, random_state=0)"
   ]
  },
  {
   "cell_type": "code",
   "execution_count": 10,
   "metadata": {
    "colab": {
     "base_uri": "https://localhost:8080/",
     "height": 74
    },
    "executionInfo": {
     "elapsed": 8411,
     "status": "ok",
     "timestamp": 1714152101393,
     "user": {
      "displayName": "Abdul-Rahman Shokry",
      "userId": "01133999996652766072"
     },
     "user_tz": -180
    },
    "id": "dy53NebbmzNb",
    "outputId": "1481ea13-d620-43d8-8659-358e10c697a2"
   },
   "outputs": [
    {
     "data": {
      "text/html": [
       "<style>#sk-container-id-1 {color: black;}#sk-container-id-1 pre{padding: 0;}#sk-container-id-1 div.sk-toggleable {background-color: white;}#sk-container-id-1 label.sk-toggleable__label {cursor: pointer;display: block;width: 100%;margin-bottom: 0;padding: 0.3em;box-sizing: border-box;text-align: center;}#sk-container-id-1 label.sk-toggleable__label-arrow:before {content: \"▸\";float: left;margin-right: 0.25em;color: #696969;}#sk-container-id-1 label.sk-toggleable__label-arrow:hover:before {color: black;}#sk-container-id-1 div.sk-estimator:hover label.sk-toggleable__label-arrow:before {color: black;}#sk-container-id-1 div.sk-toggleable__content {max-height: 0;max-width: 0;overflow: hidden;text-align: left;background-color: #f0f8ff;}#sk-container-id-1 div.sk-toggleable__content pre {margin: 0.2em;color: black;border-radius: 0.25em;background-color: #f0f8ff;}#sk-container-id-1 input.sk-toggleable__control:checked~div.sk-toggleable__content {max-height: 200px;max-width: 100%;overflow: auto;}#sk-container-id-1 input.sk-toggleable__control:checked~label.sk-toggleable__label-arrow:before {content: \"▾\";}#sk-container-id-1 div.sk-estimator input.sk-toggleable__control:checked~label.sk-toggleable__label {background-color: #d4ebff;}#sk-container-id-1 div.sk-label input.sk-toggleable__control:checked~label.sk-toggleable__label {background-color: #d4ebff;}#sk-container-id-1 input.sk-hidden--visually {border: 0;clip: rect(1px 1px 1px 1px);clip: rect(1px, 1px, 1px, 1px);height: 1px;margin: -1px;overflow: hidden;padding: 0;position: absolute;width: 1px;}#sk-container-id-1 div.sk-estimator {font-family: monospace;background-color: #f0f8ff;border: 1px dotted black;border-radius: 0.25em;box-sizing: border-box;margin-bottom: 0.5em;}#sk-container-id-1 div.sk-estimator:hover {background-color: #d4ebff;}#sk-container-id-1 div.sk-parallel-item::after {content: \"\";width: 100%;border-bottom: 1px solid gray;flex-grow: 1;}#sk-container-id-1 div.sk-label:hover label.sk-toggleable__label {background-color: #d4ebff;}#sk-container-id-1 div.sk-serial::before {content: \"\";position: absolute;border-left: 1px solid gray;box-sizing: border-box;top: 0;bottom: 0;left: 50%;z-index: 0;}#sk-container-id-1 div.sk-serial {display: flex;flex-direction: column;align-items: center;background-color: white;padding-right: 0.2em;padding-left: 0.2em;position: relative;}#sk-container-id-1 div.sk-item {position: relative;z-index: 1;}#sk-container-id-1 div.sk-parallel {display: flex;align-items: stretch;justify-content: center;background-color: white;position: relative;}#sk-container-id-1 div.sk-item::before, #sk-container-id-1 div.sk-parallel-item::before {content: \"\";position: absolute;border-left: 1px solid gray;box-sizing: border-box;top: 0;bottom: 0;left: 50%;z-index: -1;}#sk-container-id-1 div.sk-parallel-item {display: flex;flex-direction: column;z-index: 1;position: relative;background-color: white;}#sk-container-id-1 div.sk-parallel-item:first-child::after {align-self: flex-end;width: 50%;}#sk-container-id-1 div.sk-parallel-item:last-child::after {align-self: flex-start;width: 50%;}#sk-container-id-1 div.sk-parallel-item:only-child::after {width: 0;}#sk-container-id-1 div.sk-dashed-wrapped {border: 1px dashed gray;margin: 0 0.4em 0.5em 0.4em;box-sizing: border-box;padding-bottom: 0.4em;background-color: white;}#sk-container-id-1 div.sk-label label {font-family: monospace;font-weight: bold;display: inline-block;line-height: 1.2em;}#sk-container-id-1 div.sk-label-container {text-align: center;}#sk-container-id-1 div.sk-container {/* jupyter's `normalize.less` sets `[hidden] { display: none; }` but bootstrap.min.css set `[hidden] { display: none !important; }` so we also need the `!important` here to be able to override the default hidden behavior on the sphinx rendered scikit-learn.org. See: https://github.com/scikit-learn/scikit-learn/issues/21755 */display: inline-block !important;position: relative;}#sk-container-id-1 div.sk-text-repr-fallback {display: none;}</style><div id=\"sk-container-id-1\" class=\"sk-top-container\"><div class=\"sk-text-repr-fallback\"><pre>SVC()</pre><b>In a Jupyter environment, please rerun this cell to show the HTML representation or trust the notebook. <br />On GitHub, the HTML representation is unable to render, please try loading this page with nbviewer.org.</b></div><div class=\"sk-container\" hidden><div class=\"sk-item\"><div class=\"sk-estimator sk-toggleable\"><input class=\"sk-toggleable__control sk-hidden--visually\" id=\"sk-estimator-id-1\" type=\"checkbox\" checked><label for=\"sk-estimator-id-1\" class=\"sk-toggleable__label sk-toggleable__label-arrow\">SVC</label><div class=\"sk-toggleable__content\"><pre>SVC()</pre></div></div></div></div></div>"
      ],
      "text/plain": [
       "SVC()"
      ]
     },
     "execution_count": 10,
     "metadata": {},
     "output_type": "execute_result"
    }
   ],
   "source": [
    "from sklearn.svm import SVC\n",
    "svm = SVC()\n",
    "svm.fit(x_train, y_train)"
   ]
  },
  {
   "cell_type": "code",
   "execution_count": 11,
   "metadata": {
    "executionInfo": {
     "elapsed": 3324,
     "status": "ok",
     "timestamp": 1714152104713,
     "user": {
      "displayName": "Abdul-Rahman Shokry",
      "userId": "01133999996652766072"
     },
     "user_tz": -180
    },
    "id": "Lt7fmHRXm9Qd"
   },
   "outputs": [],
   "source": [
    "y_pred = svm.predict(x_test)"
   ]
  },
  {
   "cell_type": "code",
   "execution_count": 12,
   "metadata": {},
   "outputs": [
    {
     "name": "stdout",
     "output_type": "stream",
     "text": [
      "Accuracy: 0.9215392303848076\n"
     ]
    }
   ],
   "source": [
    "from sklearn.metrics import accuracy_score\n",
    "accuracy = accuracy_score(y_test, y_pred)\n",
    "print('Accuracy:', accuracy)"
   ]
  },
  {
   "cell_type": "code",
   "execution_count": 13,
   "metadata": {
    "colab": {
     "base_uri": "https://localhost:8080/"
    },
    "executionInfo": {
     "elapsed": 7,
     "status": "ok",
     "timestamp": 1714152104714,
     "user": {
      "displayName": "Abdul-Rahman Shokry",
      "userId": "01133999996652766072"
     },
     "user_tz": -180
    },
    "id": "RmHWvdWknFpE",
    "outputId": "fdcbce2d-3a5c-45e5-b848-219418d140f4"
   },
   "outputs": [
    {
     "name": "stdout",
     "output_type": "stream",
     "text": [
      "1) You regularly make new friends.: 2\n",
      "2) You spend a lot of your free time exploring various random topics that pique your interest: 1\n",
      "3) Seeing other people cry can easily make you feel like you want to cry too: 1\n",
      "4) You often make a backup plan for a backup plan.: 1\n",
      "5) You usually stay calm, even under a lot of pressure: 1\n",
      "6) At social events, you rarely try to introduce yourself to new people and mostly talk to the ones you already know: 2\n",
      "7) You prefer to completely finish one project before starting another.: 2\n",
      "8) You are very sentimental.: 3\n",
      "9) You like to use organizing tools like schedules and lists.: 3\n",
      "10) Even a small mistake can cause you to doubt your overall abilities and knowledge.: 0\n",
      "11) You feel comfortable just walking up to someone you find interesting and striking up a conversation.: 0\n",
      "12) You are not too interested in discussing various interpretations and analyses of creative works.: 0\n",
      "13) You are more inclined to follow your head than your heart.: 1\n",
      "14) You usually prefer just doing what you feel like at any given moment instead of planning a particular daily routine.: -3\n",
      "15) You rarely worry about whether you make a good impression on people you meet.: -3\n",
      "16) You enjoy participating in group activities.: -3\n",
      "17) You like books and movies that make you come up with your own interpretation of the ending.: -3\n",
      "18) Your happiness comes more from helping others accomplish things than your own accomplishments.: -3\n",
      "19) You are interested in so many things that you find it difficult to choose what to try next.: -3\n",
      "20) You are prone to worrying that things will take a turn for the worse.: 0\n",
      "21) You avoid leadership roles in group settings.: 0\n",
      "22) You are definitely not an artistic type of person.: 0\n",
      "23) You think the world would be a better place if people relied more on rationality and less on their feelings.: 1\n",
      "24) You prefer to do your chores before allowing yourself to relax.: 0\n",
      "25) You enjoy watching people argue.: 1\n",
      "26) You tend to avoid drawing attention to yourself.: 2\n",
      "27) Your mood can change very quickly.: 0\n",
      "28) You lose patience with people who are not as efficient as you.: 1\n",
      "29) You often end up doing things at the last possible moment.: 1\n",
      "30) You have always been fascinated by the question of what, if anything, happens after death.: 2\n",
      "31) You usually prefer to be around others rather than on your own.: 1\n",
      "32) You become bored or lose interest when the discussion gets highly theoretical.: 1\n",
      "\n",
      "\n",
      "\n",
      "Your personality type is : Entertainer.\n"
     ]
    }
   ],
   "source": [
    "values = []\n",
    "for i in range(32):\n",
    "    value = input(f\"{i+1}) {df.columns[i]}: \")\n",
    "    values.append(value)\n",
    "\n",
    "# Convert the values to a 2D array before prediction\n",
    "values = [values]\n",
    "\n",
    "# Predict using SVM\n",
    "y_pred = svm.predict(values)\n",
    "\n",
    "# Map predicted personality type to personality name\n",
    "personality_types = {\n",
    "    \"INTJ\": \"Architect\",\n",
    "    \"INTP\": \"Logician\",\n",
    "    \"ENTJ\": \"Commander\",\n",
    "    \"ENTP\": \"Debater\",\n",
    "    \"INFJ\": \"Advocate\",\n",
    "    \"INFP\": \"Mediator\",\n",
    "    \"ENFJ\": \"Protagonist\",\n",
    "    \"ENFP\": \"Campaigner\",\n",
    "    \"ISTJ\": \"Logistician\",\n",
    "    \"ISFJ\": \"Defender\",\n",
    "    \"ESTJ\": \"Executive\",\n",
    "    \"ESFJ\": \"Consul\",\n",
    "    \"ISTP\": \"Virtuoso\",\n",
    "    \"ISFP\": \"Adventurer\",\n",
    "    \"ESTP\": \"Entrepreneur\",\n",
    "    \"ESFP\": \"Entertainer\"\n",
    "}\n",
    "\n",
    "# Check if the predicted personality type exists in the dictionary\n",
    "if y_pred[0] in personality_types:\n",
    "    print(f\"\\n\\n\\nYour personality type is : {personality_types[y_pred[0]]}.\")\n",
    "else:\n",
    "    print(\"Invalid personality type.\")\n"
   ]
  },
  {
   "cell_type": "code",
   "execution_count": null,
   "metadata": {},
   "outputs": [],
   "source": []
  }
 ],
 "metadata": {
  "colab": {
   "authorship_tag": "ABX9TyNZCdvdJyACgQ2AV8+sl23E",
   "mount_file_id": "1uqHpCETvhrqZ-JY7Lk97X-KKmCqhtyxE",
   "provenance": []
  },
  "kernelspec": {
   "display_name": "Python 3 (ipykernel)",
   "language": "python",
   "name": "python3"
  },
  "language_info": {
   "codemirror_mode": {
    "name": "ipython",
    "version": 3
   },
   "file_extension": ".py",
   "mimetype": "text/x-python",
   "name": "python",
   "nbconvert_exporter": "python",
   "pygments_lexer": "ipython3",
   "version": "3.11.5"
  }
 },
 "nbformat": 4,
 "nbformat_minor": 1
}
